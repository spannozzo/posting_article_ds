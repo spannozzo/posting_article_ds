{
  "nbformat": 4,
  "nbformat_minor": 0,
  "metadata": {
    "colab": {
      "name": "posting_article.ipynb",
      "provenance": [],
      "authorship_tag": "ABX9TyMul5/i28w8VlwciB0oXM4h",
      "include_colab_link": true
    },
    "kernelspec": {
      "name": "python3",
      "display_name": "Python 3"
    },
    "language_info": {
      "name": "python"
    },
    "accelerator": "TPU",
    "gpuClass": "standard"
  },
  "cells": [
    {
      "cell_type": "markdown",
      "metadata": {
        "id": "view-in-github",
        "colab_type": "text"
      },
      "source": [
        "<a href=\"https://colab.research.google.com/github/spannozzo/posting_article_ds/blob/main/posting_article.ipynb\" target=\"_parent\"><img src=\"https://colab.research.google.com/assets/colab-badge.svg\" alt=\"Open In Colab\"/></a>"
      ]
    },
    {
      "cell_type": "code",
      "source": [
        "import warnings\n",
        "warnings.filterwarnings('ignore')"
      ],
      "metadata": {
        "id": "GE1UntW50Cel"
      },
      "execution_count": 1,
      "outputs": []
    },
    {
      "cell_type": "code",
      "source": [
        "import tensorflow as tf\n",
        "try:\n",
        "    tpu = tf.distribute.cluster_resolver.TPUClusterResolver()  # TPU detection. No parameters necessary if TPU_NAME environment variable is set. On Kaggle this is always the case.\n",
        "    print('Running on TPU ', tpu.master())\n",
        "except ValueError:\n",
        "    tpu = None\n",
        "\n",
        "if tpu:\n",
        "    tf.config.experimental_connect_to_cluster(tpu)\n",
        "    tf.tpu.experimental.initialize_tpu_system(tpu)\n",
        "    strategy = tf.distribute.experimental.TPUStrategy(tpu)\n",
        "else:\n",
        "    strategy = tf.distribute.get_strategy() # default distribution strategy in Tensorflow. Works on CPU and single GPU.\n",
        "\n",
        "print(\"REPLICAS: \", strategy.num_replicas_in_sync)"
      ],
      "metadata": {
        "colab": {
          "base_uri": "https://localhost:8080/"
        },
        "id": "l2r-nFxG0EPF",
        "outputId": "6bbdc5b5-82c6-4f0e-f61e-fff0954866f7"
      },
      "execution_count": 2,
      "outputs": [
        {
          "output_type": "stream",
          "name": "stdout",
          "text": [
            "Running on TPU  grpc://10.113.5.90:8470\n"
          ]
        },
        {
          "output_type": "stream",
          "name": "stderr",
          "text": [
            "WARNING:absl:`tf.distribute.experimental.TPUStrategy` is deprecated, please use  the non experimental symbol `tf.distribute.TPUStrategy` instead.\n"
          ]
        },
        {
          "output_type": "stream",
          "name": "stdout",
          "text": [
            "REPLICAS:  8\n"
          ]
        }
      ]
    },
    {
      "cell_type": "code",
      "execution_count": 4,
      "metadata": {
        "colab": {
          "base_uri": "https://localhost:8080/"
        },
        "id": "qQ0LnWmBygVT",
        "outputId": "2d06744d-dc99-437f-db08-cd7fcfcc639b"
      },
      "outputs": [
        {
          "output_type": "stream",
          "name": "stdout",
          "text": [
            "Cloning into 'posting_article_ds'...\n",
            "remote: Enumerating objects: 17, done.\u001b[K\n",
            "remote: Total 17 (delta 0), reused 0 (delta 0), pack-reused 17\u001b[K\n",
            "Unpacking objects: 100% (17/17), done.\n"
          ]
        }
      ],
      "source": [
        "!git clone https://github.com/spannozzo/posting_article_ds.git"
      ]
    },
    {
      "cell_type": "code",
      "source": [
        "!unrar e /content/posting_article_ds/data/calendar.rar"
      ],
      "metadata": {
        "colab": {
          "base_uri": "https://localhost:8080/"
        },
        "id": "KPZrMgyAy9UU",
        "outputId": "b3099bf4-7ef3-4691-de39-0c4d0790e877"
      },
      "execution_count": 6,
      "outputs": [
        {
          "output_type": "stream",
          "name": "stdout",
          "text": [
            "\n",
            "UNRAR 5.50 freeware      Copyright (c) 1993-2017 Alexander Roshal\n",
            "\n",
            "\n",
            "Extracting from /content/posting_article_ds/data/calendar.rar\n",
            "\n",
            "Extracting  calendar.csv                                                 \b\b\b\b 22%\b\b\b\b 45%\b\b\b\b 68%\b\b\b\b 90%\b\b\b\b 99%\b\b\b\b\b  OK \n",
            "All OK\n"
          ]
        }
      ]
    },
    {
      "cell_type": "code",
      "source": [
        "!unrar e /content/posting_article_ds/data/listings.rar"
      ],
      "metadata": {
        "colab": {
          "base_uri": "https://localhost:8080/"
        },
        "id": "QW5k56oM0R8q",
        "outputId": "e2104a46-a56e-4f1d-e4d7-8f6bf06d57d6"
      },
      "execution_count": 8,
      "outputs": [
        {
          "output_type": "stream",
          "name": "stdout",
          "text": [
            "\n",
            "UNRAR 5.50 freeware      Copyright (c) 1993-2017 Alexander Roshal\n",
            "\n",
            "\n",
            "Extracting from /content/posting_article_ds/data/listings.rar\n",
            "\n",
            "Extracting  listings.csv                                                 \b\b\b\b 45%\b\b\b\b 90%\b\b\b\b 99%\b\b\b\b\b  OK \n",
            "All OK\n"
          ]
        }
      ]
    },
    {
      "cell_type": "code",
      "source": [
        "!unrar x /content/posting_article_ds/data/reviews.part1.rar"
      ],
      "metadata": {
        "colab": {
          "base_uri": "https://localhost:8080/"
        },
        "id": "cqtGj2_q1DYx",
        "outputId": "39dc69a5-6d73-4030-8916-9fa7cb1bfa0f"
      },
      "execution_count": 11,
      "outputs": [
        {
          "output_type": "stream",
          "name": "stdout",
          "text": [
            "\n",
            "UNRAR 5.50 freeware      Copyright (c) 1993-2017 Alexander Roshal\n",
            "\n",
            "\n",
            "Extracting from /content/posting_article_ds/data/reviews.part1.rar\n",
            "\n",
            "Extracting  reviews.csv                                                  \b\b\b\b  3%\b\b\b\b  7%\b\b\b\b 10%\b\b\b\b 14%\b\b\b\b 18%\b\b\b\b 21%\b\b\b\b 25%\b\b\b\b 29%\b\b\b\b 32%\b\b\b\b 36%\b\b\b\b 40%\b\b\b\b 43%\b\b\b\b 45%\n",
            "\n",
            "Extracting from /content/posting_article_ds/data/reviews.part2.rar\n",
            "\n",
            "...         reviews.csv                                                  \b\b\b\b 49%\b\b\b\b 52%\b\b\b\b 56%\b\b\b\b 60%\b\b\b\b 63%\b\b\b\b 67%\b\b\b\b 71%\b\b\b\b 74%\b\b\b\b 78%\b\b\b\b 81%\b\b\b\b 85%\b\b\b\b 89%\b\b\b\b 91%\n",
            "\n",
            "Extracting from /content/posting_article_ds/data/reviews.part3.rar\n",
            "\n",
            "...         reviews.csv                                                  \b\b\b\b 94%\b\b\b\b 98%\b\b\b\b 99%\b\b\b\b\b  OK \n",
            "All OK\n"
          ]
        }
      ]
    }
  ]
}